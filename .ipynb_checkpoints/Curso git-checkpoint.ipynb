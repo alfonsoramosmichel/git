{
 "cells": [
  {
   "cell_type": "markdown",
   "metadata": {},
   "source": [
    "# Curso de git para proyectos de ingeniería"
   ]
  },
  {
   "cell_type": "markdown",
   "metadata": {},
   "source": [
    "## Índice\n",
    "\n",
    "##### Crear un repositorio local\n",
    "##### Generar un repositorio en github\n",
    "##### Añadir repositorio local a un repositorio vacío en Github\n",
    "##### Trabajar con un fork"
   ]
  },
  {
   "cell_type": "markdown",
   "metadata": {},
   "source": [
    "## Crear un repositorio local\n",
    "\n",
    "Un repositorio local lo podemos iniciar en una carpeta vacía que será dedicada a nuestro proyecto, o en muchos casos, en una carpeta que ya contiene los archivos de nuestro proyecto. Lo realizamos con el siguiente comando\n",
    "\n",
    "    git init\n",
    "\n",
    "entonces se genera una carpeta .git que es la que contiene toda la información de nuestro repositorio (proyecto)."
   ]
  },
  {
   "cell_type": "markdown",
   "metadata": {},
   "source": [
    "## Generar un repositorio en Github\n",
    "\n",
    "Pendiente"
   ]
  },
  {
   "cell_type": "markdown",
   "metadata": {},
   "source": [
    "## Añadir repositorio local a un repositorio vacío en Github\n",
    "\n",
    "Cuando ya hemos generado un repositorio local, y tenemos el repositorio en la Github donde lo alojaremos, procedemos a subir nuestro repositorio a su nueva casa en la nube.\n",
    "\n",
    "Lo primero para ello, es añarir a nuestro repositorio local, la dirección del repositorio remoto donde habremos de alojarlo (origin). Entonces tecleamos:\n",
    "\n",
    "    git remote add origin https://github.com/nombre_usuario/nombre_proyecto.git\n",
    "\n",
    "Si el repositorio remoto tiene información más reciente que repositorio local, obtener esas actualizaciones. Tecleamos:\n",
    "\n",
    "    git pull origin master\n",
    "\n",
    "Una vez sincronizado, podemos ya subir nuestros archivos locales al repositorio remoto.\n",
    "\n",
    "    git push origin master\n"
   ]
  },
  {
   "cell_type": "markdown",
   "metadata": {},
   "source": [
    "## Trabajar con un fork\n",
    "---"
   ]
  },
  {
   "cell_type": "markdown",
   "metadata": {},
   "source": [
    "### 1. Clonar el fork:\n",
    "Una vez que ya se tiene el repositorio fork en tu cuenta github, lo clonamos para tenerlo disponible de manera local\n",
    "\n",
    "    git clone https://github.com/mi_usuario/nombre_proyecto.git\n",
    "\n",
    "### 2. Añadir romoto del repositorio original en el repositorio fork local: \n",
    "Tenemos que añadir la dirección del repositorio original a nuestro fork local para que se actualice desde esa dirección.\n",
    "\n",
    "    cd carpeta/del/fork/local\n",
    "    git remote add upstream https://github.com/usuario_original/nombre_proyecto.git\n",
    "    git fetch upstream\n",
    "\n",
    "### 3. Actualizar el fork local desde el repositorio original en github:\n",
    "\n",
    "    git pull upstream master"
   ]
  }
 ],
 "metadata": {
  "kernelspec": {
   "display_name": "Python 3",
   "language": "python",
   "name": "python3"
  },
  "language_info": {
   "codemirror_mode": {
    "name": "ipython",
    "version": 3
   },
   "file_extension": ".py",
   "mimetype": "text/x-python",
   "name": "python",
   "nbconvert_exporter": "python",
   "pygments_lexer": "ipython3",
   "version": "3.6.2"
  }
 },
 "nbformat": 4,
 "nbformat_minor": 2
}
